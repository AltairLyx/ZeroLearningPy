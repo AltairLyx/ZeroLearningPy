{
 "cells": [
  {
   "cell_type": "code",
   "execution_count": 1,
   "metadata": {},
   "outputs": [],
   "source": [
    "import torch\n",
    "import torch.nn as nn"
   ]
  },
  {
   "cell_type": "code",
   "execution_count": 107,
   "metadata": {},
   "outputs": [],
   "source": [
    "class Conv2D(nn.Module):\n",
    "    def __init__(self, kernel_size, input_channel, output_channel, stride=0, padding=0):\n",
    "        super().__init__()\n",
    "        self.kernel = nn.Parameter(torch.rand((output_channel, kernel_size[0], kernel_size[1])))\n",
    "        self.bias = nn.Parameter(torch.rand(output_channel))\n",
    "        self.input_channel = input_channel\n",
    "        self.output_channel = output_channel\n",
    "        self.kernel_size = kernel_size\n",
    "    \n",
    "    def conv(self, X, kernel):\n",
    "        height, width = self.kernel_size\n",
    "        Y = torch.zeros((X.shape[0] - height + 1, X.shape[1] - width + 1))\n",
    "        for i in range(Y.shape[0]):\n",
    "            for j in range(Y.shape[1]):\n",
    "                cube = X[i : i + height, j : j + width]\n",
    "                Y[i][j] = (cube * kernel).sum()\n",
    "        return Y\n",
    "        \n",
    "    def forward(self, X):\n",
    "        assert(X.shape[0] == self.input_channel)\n",
    "        Ys = torch.zeros((self.output_channel, X.shape[1] - self.kernel_size[0] + 1, X.shape[2] - self.kernel_size[1] + 1), dtype=torch.float)\n",
    "        for i in range(self.output_channel):\n",
    "            Y = Ys[i]\n",
    "            for j in range(self.input_channel):\n",
    "                Y += self.conv(X[j], self.kernel[i])\n",
    "            Y += self.bias[i]\n",
    "        return Ys"
   ]
  },
  {
   "cell_type": "code",
   "execution_count": 218,
   "metadata": {},
   "outputs": [],
   "source": [
    "# X is the map, 1 means higher part, 0 represent lower part\n",
    "# Y is the ground truth, the second column = 1, means the 1st and the 2nd column of X is a boarder\n",
    "X = torch.tensor([[[1, 1, 0, 0, 0], [1, 1, 0, 0, 0]]])\n",
    "Y = torch.tensor([[[0, 1, 0, 0, ], [0, 1, 0, 0]]])\n",
    "\n",
    "# training a vertical boarder detector\n",
    "# conv is a convenlutional layer which will be trained to detect the boarder\n",
    "conv = Conv2D((1, 2), 1, 1)\n",
    "opt = torch.optim.SGD(conv.parameters(), lr=0.01)\n"
   ]
  },
  {
   "cell_type": "code",
   "execution_count": 223,
   "metadata": {},
   "outputs": [
    {
     "name": "stdout",
     "output_type": "stream",
     "text": [
      "Conv2D()\n",
      "tensor([[[6.9539e-07, 1.0000e+00, 3.3776e-07, 3.3776e-07],\n",
      "         [6.9539e-07, 1.0000e+00, 3.3776e-07, 3.3776e-07]]],\n",
      "       grad_fn=<CopySlices>)\n",
      "Parameter containing:\n",
      "tensor([[[ 1.0000, -1.0000]]], requires_grad=True) Parameter containing:\n",
      "tensor([3.3776e-07], requires_grad=True)\n",
      "1 1 (1, 2)\n"
     ]
    }
   ],
   "source": [
    "# training\n",
    "for i in range(5000):\n",
    "    conv.zero_grad()\n",
    "    Y_hat = conv(X)\n",
    "    loss = (Y - Y_hat) ** 2\n",
    "    loss.sum().backward()\n",
    "    opt.step()\n",
    "\n",
    "print(conv)\n",
    "print(conv(X))\n",
    "print(conv.kernel, conv.bias)\n",
    "print(conv.input_channel, conv.output_channel, conv.kernel_size)"
   ]
  }
 ],
 "metadata": {
  "interpreter": {
   "hash": "b84ff043d1ce40a48e7a6204d380e64e0c4bd8261b351461971bed57374200c1"
  },
  "kernelspec": {
   "display_name": "Python 3.9.6 64-bit ('venv': venv)",
   "name": "python3"
  },
  "language_info": {
   "codemirror_mode": {
    "name": "ipython",
    "version": 3
   },
   "file_extension": ".py",
   "mimetype": "text/x-python",
   "name": "python",
   "nbconvert_exporter": "python",
   "pygments_lexer": "ipython3",
   "version": "3.8.12"
  },
  "orig_nbformat": 4
 },
 "nbformat": 4,
 "nbformat_minor": 2
}
