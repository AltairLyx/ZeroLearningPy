{
 "cells": [
  {
   "cell_type": "code",
   "execution_count": 8,
   "metadata": {},
   "outputs": [],
   "source": [
    "import torch\n",
    "import torch.nn as nn"
   ]
  },
  {
   "cell_type": "code",
   "execution_count": 24,
   "metadata": {},
   "outputs": [
    {
     "name": "stdout",
     "output_type": "stream",
     "text": [
      "Hi . \t嗨 。 \tCC-BY 2 . 0 (France) Attribution: tatoeba . org #538123 (CM) & #891077 (Martha)\n",
      "\n",
      "['Oh', 'no', '!'] ['不', '会', '吧', '。']\n",
      "嗨 4\n",
      "。 23548\n",
      "你 5830\n",
      "好 1233\n",
      "用 437\n",
      "跑 101\n",
      "的 8091\n",
      "住 285\n",
      "手 311\n",
      "！ 266\n",
      "等 232\n"
     ]
    }
   ],
   "source": [
    "with open(\"cmn.txt\", encoding='utf8') as f:\n",
    "    lines = f.readlines()\n",
    "\n",
    "sep = \".!?,。？！，\"\n",
    "lines = [\"\".join([char if char not in sep else \" \" + char + \" \" for char in line]) for line in lines]\n",
    "print(lines[0])\n",
    "lines = [line.split(\"\\t\")[:2] for line in lines]\n",
    "lines = [(line_pair[0].split(), line_pair[1].split()) for line_pair in lines]\n",
    "\n",
    "source_sequence = []\n",
    "target_sequence = []\n",
    "for line in lines:\n",
    "    source_sequence.append(line[0])\n",
    "    target = []\n",
    "    for seq in line[1]:\n",
    "        if len(seq) == 1:\n",
    "            target.append(seq)\n",
    "        else:\n",
    "            target.extend([char for char in seq])\n",
    "    target_sequence.append(target)\n",
    "print(source_sequence[10], target_sequence[10])\n",
    "\n",
    "source_dict = {}\n",
    "target_dict = {}\n",
    "\n",
    "for sequence in source_sequence:\n",
    "    for word in sequence:\n",
    "        if source_dict.get(word, -1) == -1:\n",
    "            source_dict[word] = 0\n",
    "        else:\n",
    "            source_dict[word] += 1\n",
    "for sequence in target_sequence:\n",
    "    for word in sequence:\n",
    "        if target_dict.get(word, -1) == -1:\n",
    "            target_dict[word] = 0\n",
    "        else:\n",
    "            target_dict[word] += 1\n",
    "\n",
    "count = 0\n",
    "for k in target_dict:\n",
    "    print(k, target_dict[k])\n",
    "    count += 1\n",
    "    if count > 10:\n",
    "        break"
   ]
  },
  {
   "cell_type": "code",
   "execution_count": 3,
   "metadata": {},
   "outputs": [],
   "source": [
    "class Encoder(nn.Module):\n",
    "    def __init__(self):\n",
    "        super().__init__()\n",
    "    def forward(self, x):\n",
    "        raise NotImplementedError\n",
    "\n",
    "class Decoder(nn.Module):\n",
    "    def __init__(self):\n",
    "        super().__init__()\n",
    "    def init_state(self, state):\n",
    "        raise NotImplementedError\n",
    "    def forward(self, x, state):\n",
    "        raise NotImplementedError\n",
    "\n",
    "class Seq2Seq(nn.Module):\n",
    "    def __init__(self, encoder, decoder):\n",
    "        super().__init__()\n",
    "        self.encoder_ = encoder\n",
    "        self.decoder_ = decoder\n",
    "    def forward(self, x, y):\n",
    "        encoder_output = self.encoder_(x)\n",
    "        state = self.decoder_.init_state(encoder_output)\n",
    "        decoder_output = self.decoder_(y, state)\n",
    "        return decoder_output\n",
    "    # def predict(self, x):\n",
    "    #     NotImplementedError"
   ]
  },
  {
   "cell_type": "code",
   "execution_count": 4,
   "metadata": {},
   "outputs": [],
   "source": [
    "class GRUEncoder(Encoder):\n",
    "    def __init__(self, vocab_size, embedding_dim):\n",
    "        super().__init__()\n",
    "        self.hidden_dim = embedding_dim * 2\n",
    "        self.word2vec = nn.Embedding(vocab_size, embedding_dim)\n",
    "        self.gru = nn.GRU(input_size=embedding_dim, hidden_size=self.hidden_dim, num_layers=3, bias=True, dropout=0.5)\n",
    "    def forward(self, x):\n",
    "        hidden_state = torch.zeros((x.shape[0], self.hidden_dim))\n",
    "        embedding = self.word2vec(x)\n",
    "        output, hidden = self.gru(embedding, hidden_state)\n",
    "        return hidden\n",
    "\n",
    "class GRUDecoder(Decoder):\n",
    "    def __init__(self, vocab_size, embedding_dim):\n",
    "        super().__init__()\n",
    "        self.hidden_dim = embedding_dim * 2 \n",
    "        self.gru = nn.GRU(input_size=embedding_dim, hidden_size=self.hidden_dim, num_layers=2, bias=True, dropout=0.5)\n",
    "        self.linear = nn.Linear(self.hidden_dim, vocab_size)    \n",
    "    def init_state(self, state):\n",
    "        return state\n",
    "    def forward(self, y, state):\n",
    "        output, hidden = self.gru(y, state)\n",
    "        # output.shape = sequence, batch, embedding_dim\n",
    "        one_hot = self.linear(output)\n",
    "        return torch.sigmoid(one_hot)"
   ]
  },
  {
   "cell_type": "code",
   "execution_count": null,
   "metadata": {},
   "outputs": [],
   "source": []
  }
 ],
 "metadata": {
  "interpreter": {
   "hash": "b84ff043d1ce40a48e7a6204d380e64e0c4bd8261b351461971bed57374200c1"
  },
  "kernelspec": {
   "display_name": "Python 3.9.6 64-bit ('venv': venv)",
   "language": "python",
   "name": "python3"
  },
  "language_info": {
   "codemirror_mode": {
    "name": "ipython",
    "version": 3
   },
   "file_extension": ".py",
   "mimetype": "text/x-python",
   "name": "python",
   "nbconvert_exporter": "python",
   "pygments_lexer": "ipython3",
   "version": "3.9.6"
  },
  "orig_nbformat": 4
 },
 "nbformat": 4,
 "nbformat_minor": 2
}
