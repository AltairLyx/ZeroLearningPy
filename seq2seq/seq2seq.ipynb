{
 "cells": [
  {
   "cell_type": "code",
   "execution_count": 35,
   "metadata": {},
   "outputs": [],
   "source": [
    "import torch\n",
    "import torch.nn as nn\n",
    "from torch.utils.data import Dataset, DataLoader"
   ]
  },
  {
   "cell_type": "code",
   "execution_count": 54,
   "metadata": {},
   "outputs": [
    {
     "name": "stdout",
     "output_type": "stream",
     "text": [
      "Hi . \t嗨 。 \tCC-BY 2 . 0 (France) Attribution: tatoeba . org #538123 (CM) & #891077 (Martha)\n",
      "\n",
      "['Oh', 'no', '!'] ['不', '会', '吧', '。']\n",
      "3 2\n",
      "3 2\n"
     ]
    }
   ],
   "source": [
    "with open(\"cmn.txt\", encoding='utf8') as f:\n",
    "    lines = f.readlines()\n",
    "\n",
    "sep = \".!?,。？！，\"\n",
    "lines = [\"\".join([char if char not in sep else \" \" + char + \" \" for char in line]) for line in lines]\n",
    "print(lines[0])\n",
    "lines = [line.split(\"\\t\")[:2] for line in lines]\n",
    "lines = [(line_pair[0].split(), line_pair[1].split()) for line_pair in lines]\n",
    "\n",
    "source_sequence = []\n",
    "target_sequence = []\n",
    "for line in lines:\n",
    "    source_sequence.append(line[0])\n",
    "    target = []\n",
    "    for seq in line[1]:\n",
    "        if len(seq) == 1:\n",
    "            target.append(seq)\n",
    "        else:\n",
    "            target.extend([char for char in seq])\n",
    "    target_sequence.append(target)\n",
    "print(source_sequence[10], target_sequence[10])\n",
    "\n",
    "source_sequence = [[\"<bos>\"] + sequence + [\"<eos>\"] for sequence in source_sequence]\n",
    "target_sequence = [[\"<bos>\"] + sequence + [\"<eos>\"] for sequence in target_sequence]\n",
    "\n",
    "def padding_sequence(padding_size, sequence):\n",
    "    if len(sequence) > padding_size:\n",
    "        return sequence[:padding_size]\n",
    "    elif len(sequence) < padding_size:\n",
    "        for i in range(len(sequence), padding_size):\n",
    "            sequence.append(\"<pad>\")\n",
    "    return sequence\n",
    "    \n",
    "source_sequence = [padding_sequence(20, sequence) for sequence in source_sequence]\n",
    "target_sequence = [padding_sequence(20, sequence) for sequence in target_sequence]\n",
    "\n",
    "source_count_dict = {}\n",
    "target_count_dict = {}\n",
    "\n",
    "for sequence in source_sequence:\n",
    "    for word in sequence:\n",
    "        if source_count_dict.get(word, -1) == -1:\n",
    "            source_count_dict[word] = 0\n",
    "        else:\n",
    "            source_count_dict[word] += 1\n",
    "for sequence in target_sequence:\n",
    "    for word in sequence:\n",
    "        if target_count_dict.get(word, -1) == -1:\n",
    "            target_count_dict[word] = 0\n",
    "        else:\n",
    "            target_count_dict[word] += 1\n",
    "\n",
    "target_words = [\"<unknown>\", \"<pad>\", \"<eos>\", \"<bos>\"]\n",
    "source_words = [\"<unknown>\", \"<pad>\", \"<eos>\", \"<bos>\"]\n",
    "target_dict = {\"<unknown>\":0, \"<pad>\":1, \"<eos>\":2, \"<bos>\":3}\n",
    "source_dict = {\"<unknown>\":0, \"<pad>\":1, \"<eos>\":2, \"<bos>\":3}\n",
    "print(target_dict[\"<bos>\"], target_dict[\"<eos>\"])\n",
    "for k in source_count_dict:\n",
    "    if source_count_dict[k] < 2 or source_dict.get(k, -1) != -1:\n",
    "        continue\n",
    "    source_dict[k] = len(source_words)\n",
    "    source_words.append(k)\n",
    "for k in target_count_dict:\n",
    "    if target_count_dict[k] < 2 or target_dict.get(k, -1) != -1:\n",
    "        continue\n",
    "    target_dict[k] = len(target_words)\n",
    "    target_words.append(k)\n",
    "\n",
    "print(target_dict[\"<bos>\"], target_dict[\"<eos>\"])"
   ]
  },
  {
   "cell_type": "code",
   "execution_count": 67,
   "metadata": {},
   "outputs": [
    {
     "name": "stdout",
     "output_type": "stream",
     "text": [
      "(tensor([3, 4, 5, 2, 1, 1, 1, 1, 1, 1, 1, 1, 1, 1, 1, 1, 1, 1, 1, 1]), tensor([3, 4, 5, 2, 1, 1, 1, 1, 1, 1, 1, 1, 1, 1, 1, 1, 1, 1, 1, 1]))\n",
      "[tensor([[   3,  297,  213,   94,   64,  149,   25,  123,  428,   17,    2,    1,\n",
      "            1,    1,    1,    1,    1,    1,    1,    1],\n",
      "        [   3,  489,  857,  430, 1014,   20,  529, 2896, 2994, 1022, 3373,    5,\n",
      "            2,    1,    1,    1,    1,    1,    1,    1]]), tensor([[   3,    6,  670,  266,  576,   68,   47,   10,  723,   33,    2,    1,\n",
      "            1,    1,    1,    1,    1,    1,    1,    1],\n",
      "        [   3,  159,  479,   12, 1152,  127,  128,   19,  747,  518,   15, 1070,\n",
      "          501, 1421, 1374,    7,   10, 2312, 2450,    5]])]\n"
     ]
    }
   ],
   "source": [
    "class SeqDataset(Dataset):\n",
    "    def __init__(self, source_lines, target_lines, source_words, target_words, source_dict, target_dict) -> None:\n",
    "        super().__init__()\n",
    "        self.source_lines = source_lines\n",
    "        self.target_lines = target_lines\n",
    "        self.source_words = source_words\n",
    "        self.target_words = target_words\n",
    "        self.source_dict = source_dict\n",
    "        self.target_dict = target_dict\n",
    "    def __getitem__(self, index):\n",
    "        line = self.source_lines[index]\n",
    "        source_index = [self.source_dict.get(word, 0) for word in line]\n",
    "        line = self.target_lines[index]\n",
    "        target_index = [self.target_dict.get(word, 0)  for word in line]\n",
    "        # here we use tensor, so we can get [batch_size, sequence_length] tensor. or we will get wierd things.\n",
    "        return torch.tensor(source_index), torch.tensor(target_index)\n",
    "    def __len__(self):\n",
    "        return len(self.source_lines)\n",
    "seq_data_set = SeqDataset(source_lines=source_sequence,\n",
    "                          target_lines=target_sequence,\n",
    "                          source_words=source_words,\n",
    "                          target_words=target_words,\n",
    "                          source_dict=source_dict,\n",
    "                          target_dict=target_dict)\n",
    "print(seq_data_set[0])\n",
    "train_data_loader = DataLoader(dataset=seq_data_set, batch_size=2, shuffle=True)\n",
    "for iter in train_data_loader:\n",
    "    # print(iter[0].shape, iter[1].shape)\n",
    "    print(iter)\n",
    "    break\n"
   ]
  },
  {
   "cell_type": "code",
   "execution_count": 68,
   "metadata": {},
   "outputs": [],
   "source": [
    "class Encoder(nn.Module):\n",
    "    def __init__(self):\n",
    "        super().__init__()\n",
    "    def forward(self, x):\n",
    "        raise NotImplementedError\n",
    "\n",
    "class Decoder(nn.Module):\n",
    "    def __init__(self):\n",
    "        super().__init__()\n",
    "    def init_state(self, state):\n",
    "        raise NotImplementedError\n",
    "    def forward(self, x, state):\n",
    "        raise NotImplementedError\n",
    "\n",
    "class Seq2Seq(nn.Module):\n",
    "    def __init__(self, encoder, decoder):\n",
    "        super().__init__()\n",
    "        self.encoder_ = encoder\n",
    "        self.decoder_ = decoder\n",
    "    def forward(self, x, y):\n",
    "        encoder_output = self.encoder_(x)\n",
    "        state = self.decoder_.init_state(encoder_output)\n",
    "        decoder_output = self.decoder_(y, state)\n",
    "        return decoder_output\n",
    "    # def predict(self, x):\n",
    "    #     NotImplementedError"
   ]
  },
  {
   "cell_type": "code",
   "execution_count": 69,
   "metadata": {},
   "outputs": [],
   "source": [
    "class GRUEncoder(Encoder):\n",
    "    def __init__(self, vocab_size, embedding_dim):\n",
    "        super().__init__()\n",
    "        self.hidden_dim = embedding_dim * 2\n",
    "        self.word2vec = nn.Embedding(vocab_size, embedding_dim)\n",
    "        self.gru = nn.GRU(input_size=embedding_dim, hidden_size=self.hidden_dim, num_layers=3, bias=True, dropout=0.5)\n",
    "    def forward(self, x):\n",
    "        hidden_state = torch.zeros((x.shape[0], self.hidden_dim))\n",
    "        embedding = self.word2vec(x)\n",
    "        output, hidden = self.gru(embedding, hidden_state)\n",
    "        return hidden\n",
    "\n",
    "class GRUDecoder(Decoder):\n",
    "    def __init__(self, vocab_size, embedding_dim):\n",
    "        super().__init__()\n",
    "        self.hidden_dim = embedding_dim * 2 \n",
    "        self.gru = nn.GRU(input_size=embedding_dim, hidden_size=self.hidden_dim, num_layers=2, bias=True, dropout=0.5)\n",
    "        self.linear = nn.Linear(self.hidden_dim, vocab_size)    \n",
    "    def init_state(self, state):\n",
    "        return state\n",
    "    def forward(self, y, state):\n",
    "        output, hidden = self.gru(y, state)\n",
    "        # output.shape = sequence, batch, embedding_dim\n",
    "        one_hot = self.linear(output)\n",
    "        return torch.sigmoid(one_hot)"
   ]
  },
  {
   "cell_type": "code",
   "execution_count": null,
   "metadata": {},
   "outputs": [],
   "source": [
    "def train(data_loader, seq2seq, epoch, cross_loss):\n",
    "    optimizer = torch.optim.Adam(seq2seq.parameters(), lr=0.1)\n",
    "    for _ in epoch:\n",
    "        for data in data_loader:\n",
    "            x, y_label, _, _ = data\n",
    "            # x, y shape=[batch, sequence length], here we permute to make their shape=[sequence length, batch]\n",
    "            x = x.permute(1, 0)\n",
    "            y = y.permute(1, 0)\n",
    "            y_label = y_label.permute(1, 0)\n",
    "            # y_inference shape=[sequence length, batch, vocab_size]\n",
    "            y_inference = seq2seq(x, y_label)\n",
    "            loss = cross_loss(y_inference, y_label)\n",
    "            optimizer.zero_grad()\n",
    "            loss.backward()\n",
    "            optimizer.step()\n",
    "        "
   ]
  },
  {
   "cell_type": "code",
   "execution_count": 40,
   "metadata": {},
   "outputs": [],
   "source": [
    "seq_data_set = SeqDataset(source_lines=source_sequence,\n",
    "                          target_lines=target_sequence,\n",
    "                          source_words=source_words,\n",
    "                          target_words=target_words,\n",
    "                          source_dict=source_dict,\n",
    "                          target_dict=target_dict)\n",
    "train_data_loader = DataLoader(dataset=seq_data_set, batch_size=32, shuffle=True)\n",
    "\n",
    "seq2seq = Seq2Seq(GRUEncoder(len(source_words), 96), GRUDecoder(len(target_words), 96))"
   ]
  },
  {
   "cell_type": "code",
   "execution_count": 65,
   "metadata": {},
   "outputs": [
    {
     "name": "stdout",
     "output_type": "stream",
     "text": [
      "tensor([[1, 2, 3],\n",
      "        [4, 5, 6]])\n",
      "tensor([[7, 8, 9]])\n"
     ]
    }
   ],
   "source": [
    "embedding = torch.tensor([[1, 2, 3], [4, 5, 6], [7, 8, 9]])\n",
    "class EmbeddingDataset(Dataset):\n",
    "    def __init__(self) -> None:\n",
    "        super().__init__()\n",
    "    def __getitem__(self, index):\n",
    "        return embedding[index]\n",
    "    def __len__(self):\n",
    "        return len(embedding)\n",
    "\n",
    "data_loader = DataLoader(dataset=EmbeddingDataset(), batch_size=2)\n",
    "for data in data_loader:\n",
    "    print(data)"
   ]
  },
  {
   "cell_type": "code",
   "execution_count": 29,
   "metadata": {},
   "outputs": [
    {
     "data": {
      "text/plain": [
       "1.861994804058251"
      ]
     },
     "execution_count": 29,
     "metadata": {},
     "output_type": "execute_result"
    }
   ],
   "source": [
    "import math\n",
    "-math.log(math.exp(0) / (math.exp(1) * 2 + math.exp(0)))"
   ]
  },
  {
   "cell_type": "code",
   "execution_count": null,
   "metadata": {},
   "outputs": [],
   "source": []
  }
 ],
 "metadata": {
  "interpreter": {
   "hash": "b84ff043d1ce40a48e7a6204d380e64e0c4bd8261b351461971bed57374200c1"
  },
  "kernelspec": {
   "display_name": "Python 3.9.6 64-bit ('venv': venv)",
   "language": "python",
   "name": "python3"
  },
  "language_info": {
   "codemirror_mode": {
    "name": "ipython",
    "version": 3
   },
   "file_extension": ".py",
   "mimetype": "text/x-python",
   "name": "python",
   "nbconvert_exporter": "python",
   "pygments_lexer": "ipython3",
   "version": "3.9.6"
  },
  "orig_nbformat": 4
 },
 "nbformat": 4,
 "nbformat_minor": 2
}
